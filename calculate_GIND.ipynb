{
 "cells": [
  {
   "cell_type": "code",
   "execution_count": 1,
   "metadata": {},
   "outputs": [],
   "source": [
    "# general imports\n",
    "import numpy as np\n",
    "import os"
   ]
  },
  {
   "cell_type": "markdown",
   "metadata": {},
   "source": [
    "#### Fragen\n",
    "- nur auf eine trial datei beziehen immer oder auf alle?\n",
    "- wie soll ich mit den Perosnen bezogenen angaben umgehen welche benötigt werden?: read_file (line 104)\n",
    "- Condition: Left foot strikes first on the ground !!!!!!!Needs to be adapted for multiple Gait-Cycles!!!!!!! - Kati fragen, wie das beschrieben werden soll für unterschiedliche Beinzyklen: read_file (line 85)\n",
    "- in uitls.force.norm_gc_para: upper bounds and lower bounds for everyone the same? - weiß si ezufällig die Literatur zu den Literaturwerten?\n",
    "- in utils.marker.emg_data emg_L_roh and emg_R_roh really the same?"
   ]
  },
  {
   "cell_type": "markdown",
   "metadata": {},
   "source": [
    "## Prepairing Data"
   ]
  },
  {
   "cell_type": "markdown",
   "metadata": {},
   "source": [
    "### Loading Data from c3d files"
   ]
  },
  {
   "cell_type": "code",
   "execution_count": 2,
   "metadata": {},
   "outputs": [],
   "source": [
    "# Import functions for reading and preparing c3d file data to panda dataframes\n",
    "import read_file as rmd"
   ]
  },
  {
   "cell_type": "code",
   "execution_count": 3,
   "metadata": {},
   "outputs": [],
   "source": [
    "# Adapt path to dynamic and static c3d file\n",
    "pc =  r'C:\\UNI\\HIWI\\TUM\\HIWI_SPM\\Messdaten\\Masterarbeit Data\\Data final\\Christian\\Gait FullBody'\n",
    "\n",
    "c3d_file = os.path.join(pc, 'dyn01.c3d')\n",
    "# path c3d file with static data\n",
    "c3d_file_stat = os.path.join(pc, 'stat01.c3d')"
   ]
  },
  {
   "cell_type": "code",
   "execution_count": 4,
   "metadata": {},
   "outputs": [
    {
     "name": "stdout",
     "output_type": "stream",
     "text": [
      "Analysis data found in c3d file\n"
     ]
    },
    {
     "name": "stderr",
     "output_type": "stream",
     "text": [
      "FutureWarning [c:\\UNI\\HIWI\\TUM\\HIWI_SPM\\GIND_Repo\\The-Gait-Index-for-Neurological-Disorders-GIND-\\utils\\marker\\emg_data.py:86] Series.__getitem__ treating keys as positions is deprecated. In a future version, integer keys will always be treated as labels (consistent with DataFrame behavior). To access a value by position, use `ser.iloc[pos]`\n",
      "FutureWarning [c:\\UNI\\HIWI\\TUM\\HIWI_SPM\\GIND_Repo\\The-Gait-Index-for-Neurological-Disorders-GIND-\\utils\\marker\\emg_data.py:101] Series.__setitem__ treating keys as positions is deprecated. In a future version, integer keys will always be treated as labels (consistent with DataFrame behavior). To set a value by position, use `ser.iloc[pos] = value`\n"
     ]
    },
    {
     "name": "stdout",
     "output_type": "stream",
     "text": [
      "Analysis data found in c3d file\n",
      "\n",
      "\n"
     ]
    }
   ],
   "source": [
    "# read marker and force data from c3d file\n",
    "FB_mark = rmd.read_marker_data(c3d_file, c3d_file_stat)\n",
    "FB_force = rmd.read_force_data(c3d_file, c3d_file_stat)"
   ]
  },
  {
   "cell_type": "markdown",
   "metadata": {},
   "source": [
    "### Loading earlier calculated variables"
   ]
  },
  {
   "cell_type": "code",
   "execution_count": 5,
   "metadata": {},
   "outputs": [],
   "source": [
    "# include health values for reference and calculations (already calculated from 3 healthy subjects)\n",
    "cop_healthy_m = np.load('utils/variables/cop_healthy_m.npy')\n",
    "g_healthy_m = np.load('utils/variables/g_healthy_m.npy')\n",
    "grf_healthy_m = np.load('utils/variables/grf_healthy_m.npy')\n",
    "GVS_healthy = np.load('utils/variables/GVS_healthy.npy')\n",
    "GVS_cop_healthy = np.load('utils/variables/GVS_cop_healthy.npy')\n",
    "GVS_grf_healthy = np.load('utils/variables/GVS_grf_healthy.npy')"
   ]
  },
  {
   "cell_type": "markdown",
   "metadata": {},
   "source": [
    "## Calculating GIND"
   ]
  },
  {
   "cell_type": "markdown",
   "metadata": {},
   "source": [
    "### Calcuation of GVS?"
   ]
  },
  {
   "cell_type": "code",
   "execution_count": 6,
   "metadata": {},
   "outputs": [],
   "source": [
    "# Parameters for calculatio of gait symmetry\n",
    "para = np.array([12, 13, 14, 9, 10, 11, 6, 3, 17]) - 1\n",
    "\n",
    "# array inits for arrays in line \n",
    "row_MW_R= FB_mark[\"gc_count_mark\"][\"R_num_gc_ges\"] \n",
    "row_MW_L= FB_mark[\"gc_count_mark\"][\"L_num_gc_ges\"]\n",
    "\n",
    "angles_ges_mean = np.zeros(51)\n",
    "g_l_healthy = np.zeros(len(para)*angles_ges_mean.shape[0])\n",
    "g_r_healthy = np.zeros(len(para)*angles_ges_mean.shape[0])\n",
    "\n",
    "# loop for all the parameters that need to be collected\n",
    "for n in range(len(para)):\n",
    "    # calculate g_l for left side\n",
    "    angles_red_ges = np.zeros((51, row_MW_L), dtype=np.float64)\n",
    "    for k in range(0, row_MW_L):\n",
    "        angles_curr = FB_mark[\"L_gc_ang_ges_MW\"].iloc[k, para[n]]\n",
    "        angles_red = angles_curr[0:201:4]\n",
    "        angles_red_ges[:, k] = angles_red\n",
    "        angles_curr = []\n",
    "        angles_red = []\n",
    "    angles_ges_mean[:] = np.mean(angles_red_ges[:, 0:row_MW_L], axis=1)\n",
    "    g_l_healthy[n*angles_ges_mean.shape[0]:(n+1)*angles_ges_mean.shape[0]] = angles_ges_mean;\n",
    "    \n",
    "    # calculate right marks\n",
    "    angles_red_ges = np.zeros((51, row_MW_R), dtype=np.float64)\n",
    "    for k in range(0, row_MW_R):\n",
    "        angles_curr = FB_mark[\"R_gc_ang_ges_MW\"].iloc[k, para[n]]\n",
    "        angles_red = angles_curr[0:201:4]\n",
    "        angles_red_ges[:, k] = angles_red\n",
    "    angles_ges_mean[:] = np.mean(angles_red_ges[:, 0:row_MW_R], axis=1)\n",
    "    g_r_healthy[n*angles_ges_mean.shape[0]:(n+1)*angles_ges_mean.shape[0]] = angles_ges_mean"
   ]
  },
  {
   "cell_type": "code",
   "execution_count": 7,
   "metadata": {},
   "outputs": [],
   "source": [
    "p = 9 # number of parameters (len(para))\n",
    "GVS_l_healthy = np.array([np.sqrt(np.mean(np.square(g_l_healthy[i*51:(i+1)*51]-g_healthy_m[i*51:(i+1)*51]))) for i in range(p)])\n",
    "GVS_r_healthy = np.array([np.sqrt(np.mean(np.square(g_r_healthy[i*51:(i+1)*51]-g_healthy_m[i*51:(i+1)*51]))) for i in range(p)])\n",
    "\n",
    "# Final values for GIND calculation\n",
    "V_GVS_l_healthy = GVS_l_healthy / GVS_healthy\n",
    "V_GVS_r_healthy = GVS_r_healthy / GVS_healthy"
   ]
  },
  {
   "cell_type": "markdown",
   "metadata": {},
   "source": [
    "### Calculation of GVS GRF"
   ]
  },
  {
   "cell_type": "code",
   "execution_count": 8,
   "metadata": {},
   "outputs": [],
   "source": [
    "para = np.array([6, 7, 8]) - 1\n",
    "\n",
    "row_MW_R = FB_force[\"gc_count_force\"][\"gz_counter_R_ges\"]\n",
    "row_MW_L = FB_force[\"gc_count_force\"][\"gz_counter_L_ges\"]\n",
    "\n",
    "grf_ges_mean = np.zeros(51)\n",
    "grf_l_healthy = np.zeros(len(para)*grf_ges_mean.shape[0])\n",
    "grf_r_healthy = np.zeros(len(para)*grf_ges_mean.shape[0])\n",
    "\n",
    "for n in range(len(para)):\n",
    "    grf_red_ges = np.zeros((51, row_MW_L), dtype=np.float64)\n",
    "    for k in range(row_MW_L):\n",
    "        grf_curr = FB_force[\"L_gc_grf_ges_MW\"].iloc[k, para[n]]\n",
    "        grf_red = grf_curr[0:201:4].T\n",
    "        grf_red_ges[:, k] = grf_red\n",
    "        grf_curr = []\n",
    "        grf_red = []\n",
    "    grf_ges_mean[:] = np.mean(grf_red_ges[:, 0:row_MW_L], axis=1)\n",
    "    grf_l_healthy[n*grf_ges_mean.shape[0]:(n+1)*grf_ges_mean.shape[0]] = grf_ges_mean\n",
    "\n",
    "    grf_ges_mean = np.zeros(51)\n",
    "    grf_red_ges = np.zeros((51, row_MW_R), dtype=np.float64)\n",
    "    for k in range(row_MW_R):\n",
    "        grf_curr = FB_force[\"R_gc_grf_ges_MW\"].iloc[k, para[n]]\n",
    "        grf_red = grf_curr[0:201:4].T\n",
    "        grf_red_ges[:, k] = grf_red\n",
    "        grf_curr = []\n",
    "        grf_red = []\n",
    "    grf_ges_mean[:] = np.mean(grf_red_ges[:, 0:row_MW_R], axis=1)\n",
    "    grf_r_healthy[n*grf_ges_mean.shape[0]:(n+1)*grf_ges_mean.shape[0]] = grf_ges_mean"
   ]
  },
  {
   "cell_type": "code",
   "execution_count": 9,
   "metadata": {},
   "outputs": [],
   "source": [
    "p = 3 # len(para)\n",
    "GVS_grf_l_healthy = np.array([np.sqrt(np.mean(np.square(grf_l_healthy[i*51:(i+1)*51]-grf_healthy_m[i*51:(i+1)*51]))) for i in range(p)])\n",
    "GVS_grf_r_healthy = np.array([np.sqrt(np.mean(np.square(grf_r_healthy[i*51:(i+1)*51]-grf_healthy_m[i*51:(i+1)*51]))) for i in range(p)])\n",
    "\n",
    "V_GVS_grf_l_healthy = GVS_grf_l_healthy / GVS_grf_healthy\n",
    "V_GVS_grf_r_healthy = GVS_grf_r_healthy / GVS_grf_healthy"
   ]
  },
  {
   "cell_type": "markdown",
   "metadata": {},
   "source": [
    "### Calculation of GVS COP"
   ]
  },
  {
   "cell_type": "code",
   "execution_count": 10,
   "metadata": {},
   "outputs": [],
   "source": [
    "para = np.array([3, 4, 6, 7, 9, 10]) -1\n",
    "\n",
    "row_MW_R = FB_force[\"gc_count_force\"][\"gz_counter_R_ges\"]\n",
    "row_MW_L = FB_force[\"gc_count_force\"][\"gz_counter_L_ges\"]\n",
    "cop_ges_mean = np.zeros(51)\n",
    "cop_l_healthy = np.zeros(len(para)*cop_ges_mean.shape[0])\n",
    "cop_r_healthy = np.zeros(len(para)*cop_ges_mean.shape[0])\n",
    "\n",
    "for n in range(len(para)):\n",
    "    cop_red_ges = np.zeros((51, row_MW_L), dtype=np.float64)\n",
    "    for k in range(0, row_MW_L):\n",
    "        cop_curr = FB_force[\"L_gc_cop_ges_MW\"].iloc[k, para[n]]\n",
    "        cop_red = cop_curr[0:201:4].T\n",
    "        cop_red_ges[:, k] = cop_red\n",
    "        cop_curr = []\n",
    "        cop_red = []\n",
    "    cop_ges_mean[:] = np.mean(cop_red_ges[:, 0:row_MW_L], axis=1)\n",
    "    cop_l_healthy[n*cop_ges_mean.shape[0]:(n+1)*cop_ges_mean.shape[0]] = cop_ges_mean\n",
    "    \n",
    "    cop_red_ges = np.zeros((51, row_MW_R), dtype=np.float64)\n",
    "    for k in range(0, row_MW_R):\n",
    "        cop_curr = FB_force[\"R_gc_cop_ges_MW\"].iloc[k, para[n]]\n",
    "        cop_red = cop_curr[0:201:4].T\n",
    "        cop_red_ges[:, k] = cop_red\n",
    "        cop_curr = []\n",
    "        cop_red = []\n",
    "    cop_ges_mean[:] = np.mean(cop_red_ges[:, 0:row_MW_L], axis=1)\n",
    "    cop_r_healthy[n*cop_ges_mean.shape[0]:(n+1)*cop_ges_mean.shape[0]] = cop_ges_mean"
   ]
  },
  {
   "cell_type": "code",
   "execution_count": 11,
   "metadata": {},
   "outputs": [],
   "source": [
    "p = 6 # (len(p))\n",
    "GVS_cop_l_healthy = np.array([np.sqrt(np.mean(np.square(cop_l_healthy[i*51:(i+1)*51]-cop_healthy_m[i*51:(i+1)*51]))) for i in range(p)])\n",
    "GVS_cop_r_healthy = np.array([np.sqrt(np.mean(np.square(cop_r_healthy[i*51:(i+1)*51]-cop_healthy_m[i*51:(i+1)*51]))) for i in range(p)])\n",
    "\n",
    "V_GVS_cop_l_healthy = GVS_cop_l_healthy / GVS_cop_healthy\n",
    "V_GVS_cop_r_healthy = GVS_cop_r_healthy / GVS_cop_healthy"
   ]
  },
  {
   "cell_type": "markdown",
   "metadata": {},
   "source": [
    "### Summarizing all calculations for the GIND"
   ]
  },
  {
   "cell_type": "code",
   "execution_count": 12,
   "metadata": {},
   "outputs": [],
   "source": [
    "def rms(values):\n",
    "    return np.sqrt(np.mean(np.square(values)))"
   ]
  },
  {
   "cell_type": "code",
   "execution_count": 13,
   "metadata": {},
   "outputs": [],
   "source": [
    "V_GPS_gesamt_l_healthy= rms([V_GVS_l_healthy[0], V_GVS_l_healthy[3], V_GVS_l_healthy[6], V_GVS_l_healthy[7], V_GVS_grf_l_healthy[2], V_GVS_cop_l_healthy[1]])\n",
    "V_GPS_gesamt_r_healthy= rms([V_GVS_r_healthy[0], V_GVS_r_healthy[3], V_GVS_r_healthy[6], V_GVS_r_healthy[7], V_GVS_grf_r_healthy[2], V_GVS_cop_r_healthy[1]])"
   ]
  },
  {
   "cell_type": "code",
   "execution_count": 14,
   "metadata": {},
   "outputs": [
    {
     "data": {
      "text/plain": [
       "1.4555576966825823"
      ]
     },
     "execution_count": 14,
     "metadata": {},
     "output_type": "execute_result"
    }
   ],
   "source": [
    "V_GPS_gesamt_r_healthy"
   ]
  },
  {
   "cell_type": "code",
   "execution_count": 15,
   "metadata": {},
   "outputs": [],
   "source": [
    "V_GPS_gesamt_o_healthy_c = rms([\n",
    "    V_GVS_l_healthy[0],  # 1 in MATLAB\n",
    "    V_GVS_l_healthy[3],  # 4 in MATLAB\n",
    "    V_GVS_l_healthy[6],  # 7 in MATLAB\n",
    "    V_GVS_l_healthy[7],  # 8 in MATLAB\n",
    "    V_GVS_grf_l_healthy[2],  # 3 in MATLAB\n",
    "    V_GVS_cop_l_healthy[1],  # 2 in MATLAB\n",
    "    V_GVS_r_healthy[3],  # 4 in MATLAB\n",
    "    V_GVS_r_healthy[6],  # 7 in MATLAB\n",
    "    V_GVS_r_healthy[7],  # 8 in MATLAB\n",
    "    V_GVS_grf_r_healthy[2],  # 3 in MATLAB\n",
    "    V_GVS_cop_r_healthy[1]   # 2 in MATLAB\n",
    "])"
   ]
  },
  {
   "cell_type": "code",
   "execution_count": 16,
   "metadata": {},
   "outputs": [
    {
     "data": {
      "text/plain": [
       "1.1828959344072307"
      ]
     },
     "execution_count": 16,
     "metadata": {},
     "output_type": "execute_result"
    }
   ],
   "source": [
    "V_GPS_gesamt_o_healthy_c"
   ]
  },
  {
   "cell_type": "code",
   "execution_count": null,
   "metadata": {},
   "outputs": [],
   "source": []
  }
 ],
 "metadata": {
  "kernelspec": {
   "display_name": "hiwi-spm",
   "language": "python",
   "name": "python3"
  },
  "language_info": {
   "codemirror_mode": {
    "name": "ipython",
    "version": 3
   },
   "file_extension": ".py",
   "mimetype": "text/x-python",
   "name": "python",
   "nbconvert_exporter": "python",
   "pygments_lexer": "ipython3",
   "version": "3.11.9"
  }
 },
 "nbformat": 4,
 "nbformat_minor": 2
}
